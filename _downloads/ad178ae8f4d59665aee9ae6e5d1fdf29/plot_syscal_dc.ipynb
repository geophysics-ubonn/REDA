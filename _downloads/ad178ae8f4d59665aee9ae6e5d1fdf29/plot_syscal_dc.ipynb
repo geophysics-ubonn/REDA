{
  "cells": [
    {
      "cell_type": "code",
      "execution_count": null,
      "metadata": {
        "collapsed": false
      },
      "outputs": [],
      "source": [
        "%matplotlib inline"
      ]
    },
    {
      "cell_type": "markdown",
      "metadata": {},
      "source": [
        "\n# Importing Syscal ERT data\n"
      ]
    },
    {
      "cell_type": "code",
      "execution_count": null,
      "metadata": {
        "collapsed": false
      },
      "outputs": [],
      "source": [
        "import reda\nert = reda.ERT()"
      ]
    },
    {
      "cell_type": "markdown",
      "metadata": {},
      "source": [
        "data import:\n\n"
      ]
    },
    {
      "cell_type": "code",
      "execution_count": null,
      "metadata": {
        "collapsed": false
      },
      "outputs": [],
      "source": [
        "# note that you should prefer importing the binary data (the importer can\n# import more data)\nert.import_syscal_txt('data_syscal_ert/data_normal.txt')\n\n# the second data set was measured in a reciprocal configuration by switching\n# the 24-electrode cables on the Syscal Pro input connectors. The parameter\n# \"reciprocals\" changes electrode notations.\nert.import_syscal_txt(\n    'data_syscal_ert/data_reciprocal.txt', reciprocals=48)\n\n# compute geometrical factors using the analytical half-space equation for a\n# spacing of 0.25 m\nert.compute_K_analytical(spacing=0.25)"
      ]
    },
    {
      "cell_type": "markdown",
      "metadata": {},
      "source": [
        "create some plots in a subdirectory\n\n"
      ]
    },
    {
      "cell_type": "code",
      "execution_count": null,
      "metadata": {
        "collapsed": false
      },
      "outputs": [],
      "source": [
        "with reda.CreateEnterDirectory('plots'):\n    ert.pseudosection(\n        column='r', filename='pseudosection_log10_r.pdf', log10=True)\n    ert.histogram(['r', 'rho_a', 'Iab', ], filename='histograms.pdf')"
      ]
    },
    {
      "cell_type": "markdown",
      "metadata": {},
      "source": [
        "export to various data files\n\n"
      ]
    },
    {
      "cell_type": "code",
      "execution_count": null,
      "metadata": {
        "collapsed": false
      },
      "outputs": [],
      "source": [
        "with reda.CreateEnterDirectory('data_export'):\n    # TODO: seems broken\n    # ert.export_bert('data.ohm')\n    # ert.export_pygimli('data.pygimli')\n    ert.export_crtomo('volt.dat')"
      ]
    }
  ],
  "metadata": {
    "kernelspec": {
      "display_name": "Python 3",
      "language": "python",
      "name": "python3"
    },
    "language_info": {
      "codemirror_mode": {
        "name": "ipython",
        "version": 3
      },
      "file_extension": ".py",
      "mimetype": "text/x-python",
      "name": "python",
      "nbconvert_exporter": "python",
      "pygments_lexer": "ipython3",
      "version": "3.7.1"
    }
  },
  "nbformat": 4,
  "nbformat_minor": 0
}