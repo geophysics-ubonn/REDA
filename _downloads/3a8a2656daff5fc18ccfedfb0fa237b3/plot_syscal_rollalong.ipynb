{
  "cells": [
    {
      "cell_type": "code",
      "execution_count": null,
      "metadata": {
        "collapsed": false
      },
      "outputs": [],
      "source": [
        "%matplotlib inline"
      ]
    },
    {
      "cell_type": "markdown",
      "metadata": {},
      "source": [
        "\n# Importing Syscal ERT data from roll-a-long scheme\n"
      ]
    },
    {
      "cell_type": "code",
      "execution_count": null,
      "metadata": {
        "collapsed": false
      },
      "outputs": [],
      "source": [
        "import reda"
      ]
    },
    {
      "cell_type": "markdown",
      "metadata": {},
      "source": [
        "create an ERT container and import first dataset\n\n"
      ]
    },
    {
      "cell_type": "code",
      "execution_count": null,
      "metadata": {
        "collapsed": false
      },
      "outputs": [],
      "source": [
        "ert_p1 = reda.ERT()\nert_p1.import_syscal_bin(\n    'data_syscal_rollalong/profile_1.bin'\n)\nert_p1.compute_K_analytical(spacing=0.2)\nert_p1.pseudosection(\n    filename='profile1_pseudosection.pdf',\n    column='r', log10=True\n)"
      ]
    },
    {
      "cell_type": "markdown",
      "metadata": {},
      "source": [
        "create an ERT container and import second dataset\n\n"
      ]
    },
    {
      "cell_type": "code",
      "execution_count": null,
      "metadata": {
        "collapsed": false
      },
      "outputs": [],
      "source": [
        "ert_p2 = reda.ERT()\nert_p2.import_syscal_bin(\n    'data_syscal_rollalong/profile_2.bin',\n)\nert_p2.compute_K_analytical(spacing=0.2)\nert_p2.pseudosection(\n    filename='profile2_pseudosection.pdf',\n    column='r',\n    log10=True\n)"
      ]
    },
    {
      "cell_type": "markdown",
      "metadata": {},
      "source": [
        "create an ERT container and jointly import the first and second dataset,\nthereby shifting electrode notations of the second dataset by 24 electrodes\n\n"
      ]
    },
    {
      "cell_type": "code",
      "execution_count": null,
      "metadata": {
        "collapsed": false
      },
      "outputs": [],
      "source": [
        "ert = reda.ERT()\n\n# first profile\nert.import_syscal_bin(\n    'data_syscal_rollalong/profile_1.bin'\n)\n\n# second profile\nert.import_syscal_bin(\n    'data_syscal_rollalong/profile_2.bin',\n    electrode_transformator=reda.transforms.transform_electrodes_roll_along(\n        shiftby=24\n    )\n)\n\n# compute geometric factors\nert.compute_K_analytical(spacing=0.2)\n\nert.pseudosection(filename='pseudosection_both_profiles.pdf',\n                  column='r', log10=True)\n\nert.histogram(filename='hist_both_profiles.pdf',\n              column=['r', 'rho_a', 'Iab', ])"
      ]
    }
  ],
  "metadata": {
    "kernelspec": {
      "display_name": "Python 3",
      "language": "python",
      "name": "python3"
    },
    "language_info": {
      "codemirror_mode": {
        "name": "ipython",
        "version": 3
      },
      "file_extension": ".py",
      "mimetype": "text/x-python",
      "name": "python",
      "nbconvert_exporter": "python",
      "pygments_lexer": "ipython3",
      "version": "3.7.1"
    }
  },
  "nbformat": 4,
  "nbformat_minor": 0
}